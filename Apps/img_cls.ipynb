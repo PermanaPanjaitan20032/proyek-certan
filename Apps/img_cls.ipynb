{
 "cells": [
  {
   "attachments": {},
   "cell_type": "markdown",
   "metadata": {},
   "source": [
    "# Catatan Kerja Proyek\n",
    "\n",
    "<table align=\"left\">\n",
    "    <tr>\n",
    "        <td style=\"text-align:left\">Kode Mata Kuliah</td>\n",
    "        <td style=\"text-align:left\">:</td>\n",
    "        <td style=\"text-align:left\">10S3001</td>\n",
    "    </tr>\n",
    "    <tr>\n",
    "        <td style=\"text-align:left\">Nama Mata Kuliah</td>\n",
    "        <td style=\"text-align:left\">:</td>\n",
    "        <td style=\"text-align:left\">Kecerdasan Buatan</td>\n",
    "    </tr>\n",
    "    <tr>\n",
    "        <td style=\"text-align:left\">Judul Proyek</td>\n",
    "        <td style=\"text-align:left\">:</td>\n",
    "        <td style=\"text-align:left\"><i>Image Classification</i></td>\n",
    "    </tr>\n",
    "    <tr>\n",
    "        <td style=\"text-align:left\">Nama Kelompok</td>\n",
    "        <td style=\"text-align:left\">:</td>\n",
    "        <td style=\"text-align:left\"><i>RED</i></td>\n",
    "    </tr>\n",
    "    <tr>\n",
    "        <td style=\"text-align:left\">NIM/Nama Anggota</td>\n",
    "        <td style=\"text-align:left\">:</td>\n",
    "        <td style=\"text-align:left\"><i>\n",
    "        - 12S20012   Ary Aritonang<br> \n",
    "        - 12S20019   Yehezchiel Sibuea <br> \n",
    "        - 12S20032   Permana Panjaitan</i></td>\n",
    "    </tr>\n",
    "</table>"
   ]
  },
  {
   "cell_type": "code",
   "execution_count": 13,
   "metadata": {},
   "outputs": [],
   "source": [
    "# Import the necessary modules\n",
    "import numpy as np\n",
    "import matplotlib.pyplot as plt\n",
    "from keras.datasets import cifar10\n",
    "from keras.utils import to_categorical\n",
    "from keras.models import Sequential\n",
    "from keras.layers import Conv2D, MaxPooling2D, Flatten, Dense, Dropout"
   ]
  },
  {
   "cell_type": "code",
   "execution_count": 15,
   "metadata": {},
   "outputs": [],
   "source": [
    "# Load the data\n",
    "(x_train, y_train), (x_test, y_test) = cifar10.load_data()"
   ]
  },
  {
   "cell_type": "code",
   "execution_count": 19,
   "metadata": {},
   "outputs": [],
   "source": [
    "# Select the \"dog\" and \"cat\" classes\n",
    "idx = np.squeeze((y_train == 5) | (y_train == 3))\n",
    "x_train = x_train[idx]\n",
    "y_train = y_train[idx]\n",
    "idx = np.squeeze((y_test == 5) | (y_test == 3))\n",
    "x_test = x_test[idx]\n",
    "y_test = y_test[idx]"
   ]
  },
  {
   "cell_type": "code",
   "execution_count": 20,
   "metadata": {},
   "outputs": [],
   "source": [
    "# Preprocess the data\n",
    "x_train = x_train.astype('float32')\n",
    "x_test = x_test.astype('float32')\n",
    "x_train /= 255\n",
    "x_test /= 255"
   ]
  },
  {
   "cell_type": "code",
   "execution_count": 22,
   "metadata": {},
   "outputs": [],
   "source": [
    "# Map labels to values 0 and 1\n",
    "y_train[y_train == 3] = 0\n",
    "y_train[y_train == 5] = 1\n",
    "y_test[y_test == 3] = 0\n",
    "y_test[y_test == 5] = 1"
   ]
  },
  {
   "cell_type": "code",
   "execution_count": 23,
   "metadata": {},
   "outputs": [],
   "source": [
    "# Convert the labels to categorical\n",
    "y_train = to_categorical(y_train.astype(int))\n",
    "y_test = to_categorical(y_test.astype(int))"
   ]
  },
  {
   "cell_type": "code",
   "execution_count": 24,
   "metadata": {},
   "outputs": [],
   "source": [
    "# Create the model\n",
    "model = Sequential()"
   ]
  },
  {
   "cell_type": "code",
   "execution_count": 26,
   "metadata": {},
   "outputs": [],
   "source": [
    "model.add(Conv2D(32, (3, 3), activation='relu', padding='same', input_shape=(32, 32, 3)))\n",
    "model.add(Conv2D(32, (3, 3), activation='relu'))\n",
    "model.add(MaxPooling2D(pool_size=(2, 2)))\n",
    "model.add(Dropout(0.25))\n",
    "model.add(Conv2D(64, (3, 3), activation='relu', padding='same'))\n",
    "model.add(Conv2D(64, (3, 3), activation='relu'))\n",
    "model.add(MaxPooling2D(pool_size=(2, 2)))\n",
    "model.add(Dropout(0.25))\n",
    "model.add(Flatten())\n",
    "model.add(Dense(512, activation='relu'))\n",
    "model.add(Dropout(0.5))\n",
    "model.add(Dense(2, activation='softmax'))\n"
   ]
  },
  {
   "cell_type": "code",
   "execution_count": 27,
   "metadata": {},
   "outputs": [],
   "source": [
    "# Compile the model\n",
    "model.compile(loss='categorical_crossentropy', optimizer='adam', metrics=['accuracy'])"
   ]
  },
  {
   "cell_type": "code",
   "execution_count": 28,
   "metadata": {},
   "outputs": [
    {
     "name": "stdout",
     "output_type": "stream",
     "text": [
      "Epoch 1/10\n",
      "157/157 [==============================] - 35s 214ms/step - loss: 0.6794 - accuracy: 0.5711 - val_loss: 0.6672 - val_accuracy: 0.6075\n",
      "Epoch 2/10\n",
      "157/157 [==============================] - 37s 235ms/step - loss: 0.6240 - accuracy: 0.6503 - val_loss: 0.5824 - val_accuracy: 0.6820\n",
      "Epoch 3/10\n",
      "157/157 [==============================] - 31s 199ms/step - loss: 0.5752 - accuracy: 0.7009 - val_loss: 0.5264 - val_accuracy: 0.7355\n",
      "Epoch 4/10\n",
      "157/157 [==============================] - 32s 207ms/step - loss: 0.5346 - accuracy: 0.7334 - val_loss: 0.5069 - val_accuracy: 0.7450\n",
      "Epoch 5/10\n",
      "157/157 [==============================] - 32s 204ms/step - loss: 0.4986 - accuracy: 0.7544 - val_loss: 0.4693 - val_accuracy: 0.7725\n",
      "Epoch 6/10\n",
      "157/157 [==============================] - 32s 204ms/step - loss: 0.4574 - accuracy: 0.7846 - val_loss: 0.4415 - val_accuracy: 0.7925\n",
      "Epoch 7/10\n",
      "157/157 [==============================] - 32s 203ms/step - loss: 0.4313 - accuracy: 0.7988 - val_loss: 0.5206 - val_accuracy: 0.7570\n",
      "Epoch 8/10\n",
      "157/157 [==============================] - 33s 208ms/step - loss: 0.4033 - accuracy: 0.8164 - val_loss: 0.4353 - val_accuracy: 0.7970\n",
      "Epoch 9/10\n",
      "157/157 [==============================] - 32s 202ms/step - loss: 0.3783 - accuracy: 0.8301 - val_loss: 0.4037 - val_accuracy: 0.8195\n",
      "Epoch 10/10\n",
      "157/157 [==============================] - 33s 208ms/step - loss: 0.3515 - accuracy: 0.8410 - val_loss: 0.4440 - val_accuracy: 0.8005\n"
     ]
    }
   ],
   "source": [
    "# Fit the model to the training data\n",
    "history = model.fit(x_train, y_train, batch_size=64, epochs=10, validation_data=(x_test, y_test))"
   ]
  },
  {
   "cell_type": "code",
   "execution_count": 29,
   "metadata": {},
   "outputs": [
    {
     "name": "stdout",
     "output_type": "stream",
     "text": [
      "Test loss: 0.4439886510372162\n",
      "Test accuracy: 0.8004999756813049\n"
     ]
    }
   ],
   "source": [
    "# Evaluate the model on the test data\n",
    "score = model.evaluate(x_test, y_test, verbose=0)\n",
    "print('Test loss:', score[0])\n",
    "print('Test accuracy:', score[1])"
   ]
  },
  {
   "cell_type": "code",
   "execution_count": 30,
   "metadata": {},
   "outputs": [],
   "source": [
    "# Plot the training and validation accuracy and loss\n",
    "acc = history.history['accuracy']\n",
    "val_acc = history.history['val_accuracy']\n",
    "loss = history.history['loss']\n",
    "val_loss = history.history['val_loss']"
   ]
  },
  {
   "cell_type": "code",
   "execution_count": 31,
   "metadata": {},
   "outputs": [],
   "source": [
    "epochs_range = range(len(acc))"
   ]
  },
  {
   "cell_type": "code",
   "execution_count": 32,
   "metadata": {},
   "outputs": [
    {
     "data": {
      "text/plain": [
       "Text(0.5, 1.0, 'Training and Validation Accuracy')"
      ]
     },
     "execution_count": 32,
     "metadata": {},
     "output_type": "execute_result"
    },
    {
     "data": {
      "image/png": "[encoded data removed]",
      "text/plain": [
       "<Figure size 800x800 with 1 Axes>"
      ]
     },
     "metadata": {},
     "output_type": "display_data"
    }
   ],
   "source": [
    "plt.figure(figsize=(8, 8))\n",
    "plt.subplot(2, 2, 1)\n",
    "plt.plot(epochs_range, acc, label='Training Accuracy')\n",
    "plt.plot(epochs_range, val_acc, label='Validation Accuracy')\n",
    "plt.legend(loc='lower right')\n",
    "plt.title('Training and Validation Accuracy')"
   ]
  },
  {
   "cell_type": "code",
   "execution_count": 33,
   "metadata": {},
   "outputs": [
    {
     "data": {
      "image/png": "[encoded data removed]",
      "text/plain": [
       "<Figure size 640x480 with 1 Axes>"
      ]
     },
     "metadata": {},
     "output_type": "display_data"
    }
   ],
   "source": [
    "\n",
    "plt.subplot(2, 2, 2)\n",
    "plt.plot(epochs_range, loss, label='Training Loss')\n",
    "plt.plot(epochs_range, val_loss, label='Validation Loss')\n",
    "plt.legend(loc='upper right')\n",
    "plt.title('Training and Validation Loss')\n",
    "plt.show()"
   ]
  },
  {
   "cell_type": "code",
   "execution_count": 34,
   "metadata": {},
   "outputs": [],
   "source": [
    "# Save the model\n",
    "model.save('animal_classifier.h5')"
   ]
  },
  {
   "cell_type": "code",
   "execution_count": null,
   "metadata": {},
   "outputs": [],
   "source": []
  }
 ],
 "metadata": {
  "kernelspec": {
   "display_name": "Python 3",
   "language": "python",
   "name": "python3"
  },
  "language_info": {
   "codemirror_mode": {
    "name": "ipython",
    "version": 3
   },
   "file_extension": ".py",
   "mimetype": "text/x-python",
   "name": "python",
   "nbconvert_exporter": "python",
   "pygments_lexer": "ipython3",
   "version": "3.10.5"
  },
  "orig_nbformat": 4,
  "vscode": {
   "interpreter": {
    "hash": "27f6fea6f47ae512550f0b8facdbd035a93e1dd89633f7bf2dd00a2502c71d0d"
   }
  }
 },
 "nbformat": 4,
 "nbformat_minor": 2
}
